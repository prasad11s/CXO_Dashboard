{
 "cells": [
  {
   "cell_type": "code",
   "execution_count": 5,
   "id": "31231435-d55f-414f-8473-56ad0152485a",
   "metadata": {},
   "outputs": [
    {
     "name": "stdout",
     "output_type": "stream",
     "text": [
      "   Revenue  Operating Costs  Marketing Expenses  Salaries  Utilities  \\\n",
      "0   249710            81748                9523     85514      19318   \n",
      "1   954738           189281               20528     62984      27234   \n",
      "2   167693            51922               24540     43577      39739   \n",
      "3   602212           161878               11688     86991      23409   \n",
      "4   557698           142764               46642    138875      10718   \n",
      "\n",
      "   Total Expenses  Profit/Loss  Cash Inflows  Cash Outflows  Cash Flow  \\\n",
      "0          196103        53607        192814          48147     144667   \n",
      "1          300027       654711        129129         144537     -15408   \n",
      "2          159778         7915        175833          78513      97320   \n",
      "3          283966       318246         52779         120872     -68093   \n",
      "4          338999       218699        109286         110052       -766   \n",
      "\n",
      "          ROI  \n",
      "0   27.336145  \n",
      "1  218.217360  \n",
      "2    4.953748  \n",
      "3  112.071868  \n",
      "4   64.513170  \n"
     ]
    }
   ],
   "source": [
    "import random\n",
    "from faker import Faker\n",
    "import pandas as pd\n",
    "\n",
    "fake = Faker()\n",
    "\n",
    "# Function to generate fake financial data\n",
    "def generate_financial_data(num_records):\n",
    "    data = []\n",
    "    for _ in range(num_records):\n",
    "        revenue = random.randint(100000, 1000000)\n",
    "        operating_costs = random.randint(20000, 200000)\n",
    "        marketing_expenses = random.randint(5000, 50000)\n",
    "        salaries = random.randint(30000, 150000)\n",
    "        utilities = random.randint(10000, 50000)\n",
    "        \n",
    "        total_expenses = operating_costs + marketing_expenses + salaries + utilities\n",
    "        profit_loss = revenue - total_expenses\n",
    "        cash_inflows = random.randint(50000, 200000)\n",
    "        cash_outflows = random.randint(30000, 150000)\n",
    "        cash_flow = cash_inflows - cash_outflows\n",
    "        roi = (profit_loss / total_expenses) * 100 if total_expenses != 0 else 0\n",
    "        \n",
    "        data.append({\n",
    "            'Revenue': revenue,\n",
    "            'Operating Costs': operating_costs,\n",
    "            'Marketing Expenses': marketing_expenses,\n",
    "            'Salaries': salaries,\n",
    "            'Utilities': utilities,\n",
    "            'Total Expenses': total_expenses,\n",
    "            'Profit/Loss': profit_loss,\n",
    "            'Cash Inflows': cash_inflows,\n",
    "            'Cash Outflows': cash_outflows,\n",
    "            'Cash Flow': cash_flow,\n",
    "            'ROI': roi\n",
    "        })\n",
    "    return data\n",
    "\n",
    "# Generate fake financial data\n",
    "num_records = 1000\n",
    "financial_data = generate_financial_data(num_records)\n",
    "\n",
    "# Create a DataFrame\n",
    "df = pd.DataFrame(financial_data)\n",
    "\n",
    "# Save the DataFrame to a CSV file\n",
    "df.to_csv('financial_data1.csv', index=False)\n",
    "\n",
    "# Display the DataFrame\n",
    "print(df.head())\n"
   ]
  },
  {
   "cell_type": "code",
   "execution_count": 3,
   "id": "73efea79-04f6-4fbc-a184-21ac7124fc94",
   "metadata": {},
   "outputs": [
    {
     "name": "stdout",
     "output_type": "stream",
     "text": [
      "Collecting faker\n",
      "  Downloading Faker-24.4.0-py3-none-any.whl.metadata (15 kB)\n",
      "Requirement already satisfied: python-dateutil>=2.4 in c:\\users\\prasad\\anaconda3\\lib\\site-packages (from faker) (2.8.2)\n",
      "Requirement already satisfied: six>=1.5 in c:\\users\\prasad\\anaconda3\\lib\\site-packages (from python-dateutil>=2.4->faker) (1.16.0)\n",
      "Downloading Faker-24.4.0-py3-none-any.whl (1.8 MB)\n",
      "   ---------------------------------------- 0.0/1.8 MB ? eta -:--:--\n",
      "   ---------------------------------------- 0.0/1.8 MB ? eta -:--:--\n",
      "   -- ------------------------------------- 0.1/1.8 MB 1.1 MB/s eta 0:00:02\n",
      "   ----- ---------------------------------- 0.3/1.8 MB 2.3 MB/s eta 0:00:01\n",
      "   ------------ --------------------------- 0.5/1.8 MB 3.0 MB/s eta 0:00:01\n",
      "   ---------------- ----------------------- 0.7/1.8 MB 3.4 MB/s eta 0:00:01\n",
      "   ------------------------ --------------- 1.1/1.8 MB 4.1 MB/s eta 0:00:01\n",
      "   ----------------------------- ---------- 1.3/1.8 MB 4.3 MB/s eta 0:00:01\n",
      "   --------------------------------- ------ 1.5/1.8 MB 4.1 MB/s eta 0:00:01\n",
      "   ------------------------------------- -- 1.6/1.8 MB 4.0 MB/s eta 0:00:01\n",
      "   ---------------------------------------- 1.8/1.8 MB 3.9 MB/s eta 0:00:00\n",
      "Installing collected packages: faker\n",
      "Successfully installed faker-24.4.0\n"
     ]
    }
   ],
   "source": [
    "!pip install faker"
   ]
  },
  {
   "cell_type": "code",
   "execution_count": null,
   "id": "32014cca-4fad-49b9-ac24-252802b067f9",
   "metadata": {},
   "outputs": [],
   "source": []
  }
 ],
 "metadata": {
  "kernelspec": {
   "display_name": "Python 3 (ipykernel)",
   "language": "python",
   "name": "python3"
  },
  "language_info": {
   "codemirror_mode": {
    "name": "ipython",
    "version": 3
   },
   "file_extension": ".py",
   "mimetype": "text/x-python",
   "name": "python",
   "nbconvert_exporter": "python",
   "pygments_lexer": "ipython3",
   "version": "3.11.7"
  }
 },
 "nbformat": 4,
 "nbformat_minor": 5
}
